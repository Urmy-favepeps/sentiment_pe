{
 "cells": [
  {
   "cell_type": "code",
   "execution_count": null,
   "id": "bb30c645-17db-4f31-957a-04d8eca269c4",
   "metadata": {},
   "outputs": [
    {
     "name": "stdout",
     "output_type": "stream",
     "text": [
      "Enter a sentence to analyze the sentiment and receive suggestions (type 'exit' to quit):\n"
     ]
    },
    {
     "name": "stdin",
     "output_type": "stream",
     "text": [
      "Your input:  happy\n"
     ]
    },
    {
     "name": "stdout",
     "output_type": "stream",
     "text": [
      "Result:\n",
      "The sentiment of the text is: Positive\n",
      "\n",
      "Helpful suggestion: To maintain or enhance the positive sentiment, consider incorporating more specific details or examples that elicit happiness. This will help the reader connect more deeply with the positive feelings conveyed in the text.\n",
      "\n"
     ]
    },
    {
     "name": "stdin",
     "output_type": "stream",
     "text": [
      "Your input:  sad\n"
     ]
    },
    {
     "name": "stdout",
     "output_type": "stream",
     "text": [
      "Result:\n",
      "1. The sentiment of the text: 'Negative'\n",
      "2. I'm sorry to hear that you're feeling sad. Here are a few suggestions to help improve or overcome the negativity:\n",
      "   - Try engaging in activities that you enjoy or that bring you comfort.\n",
      "   - Reach out to a trusted friend or family member to talk about your feelings.\n",
      "   - Consider practicing mindfulness or meditation techniques to help manage your emotions.\n",
      "   - Remember that it's okay to have negative feelings and that they're a natural part of life. Allow yourself to feel these emotions, but also remember that they will pass with time.\n",
      "\n"
     ]
    },
    {
     "name": "stdin",
     "output_type": "stream",
     "text": [
      "Your input:  lazy\n"
     ]
    },
    {
     "name": "stdout",
     "output_type": "stream",
     "text": [
      "Result:\n",
      "1. The sentiment of the text: 'Negative'\n",
      "2. A helpful suggestion or advice based on the sentiment:\n",
      "Since the sentiment of the text is negative, here are some suggestions to improve or overcome the negativity:\n",
      "- Try to find the positive aspects of the situation or topic you are writing about. Highlighting these can help shift the tone of the text to a more positive one.\n",
      "- If you are writing about a personal experience, consider sharing how you overcame any challenges or learned from the situation. This can add a more optimistic perspective.\n",
      "- If the text is focused on criticizing or pointing out problems, balance it by offering potential solutions or ways to improve. This can help shift the focus\n",
      "\n"
     ]
    },
    {
     "name": "stdin",
     "output_type": "stream",
     "text": [
      "Your input:  full of energy\n"
     ]
    },
    {
     "name": "stdout",
     "output_type": "stream",
     "text": [
      "Result:\n",
      "1. The sentiment of the text: 'Positive'\n",
      "2. Since the text is full of energy and positive, here are some suggestions to maintain or enhance this sentiment:\n",
      "- Continue expressing enthusiasm and excitement in your writing.\n",
      "- Share success stories or positive experiences to keep the energy level high.\n",
      "- Use engaging and dynamic language to captivate your audience.\n",
      "- Encourage others to share their positive experiences and energy as well.\n",
      "\n"
     ]
    },
    {
     "name": "stdin",
     "output_type": "stream",
     "text": [
      "Your input:  Today i feel okay okay\n"
     ]
    },
    {
     "name": "stdout",
     "output_type": "stream",
     "text": [
      "Result:\n",
      "1. The sentiment of the text: 'Neutral'\n",
      "2. Since the sentiment of the text is neutral, I would suggest adding more emotion or perspective to the text. You could try expressing how you truly feel, whether it's positive, negative, or somewhere in between. This can help you better understand and communicate your emotions.\n",
      "\n"
     ]
    }
   ],
   "source": [
    "from langchain_groq import ChatGroq\n",
    "\n",
    "\n",
    "llm = ChatGroq(\n",
    "    model=\"mixtral-8x7b-32768\",\n",
    "    temperature=0.2,\n",
    "    groq_api_key=\"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\" \n",
    ")\n",
    "\n",
    "\n",
    "def analyze_sentiment_and_suggest(text):\n",
    "    prompt = f\"\"\"\n",
    "    You are an AI assistant that \n",
    "    analyzes the sentiment of a \n",
    "    given text and provides useful suggestions\n",
    "    based on the tone of the text:\n",
    "    ---\n",
    "    {text}\n",
    "    ---\n",
    "    Based on the sentiment of the text,\n",
    "    please provide one of the following:\n",
    "    1. The sentiment of the text: 'Positive', 'Negative', or 'Neutral'.\n",
    "    2. A helpful suggestion or advice based on the sentiment:\n",
    "        - If the sentiment is positive, suggest ways to maintain or enhance it.\n",
    "        - If the sentiment is negative, suggest ways to improve or overcome the negativity.\n",
    "        - If the sentiment is neutral, suggest ways to add more emotion or perspective to the text.\n",
    "    \"\"\"\n",
    "    \n",
    "    \n",
    "    response = llm.invoke(prompt, max_tokens=150)\n",
    "    return response.content.strip()\n",
    "\n",
    "\n",
    "def main():\n",
    "    print(\"Enter a sentence to analyze the sentiment and receive suggestions (type 'exit' to quit):\")\n",
    "    while True:\n",
    "        user_input = input(\"Your input: \")\n",
    "        \n",
    "        \n",
    "        if user_input.lower() == 'exit':\n",
    "            print(\"Exiting the sentiment analysis tool.\")\n",
    "            break\n",
    "        \n",
    "       \n",
    "        result = analyze_sentiment_and_suggest(user_input)\n",
    "        \n",
    "        \n",
    "        print(f\"Result:\\n{result}\\n\")\n",
    "\n",
    "\n",
    "\n",
    "main()"
   ]
  },
  {
   "cell_type": "code",
   "execution_count": null,
   "id": "09e628b9-e8f4-4bfe-803c-767a091695e1",
   "metadata": {},
   "outputs": [],
   "source": []
  }
 ],
 "metadata": {
  "kernelspec": {
   "display_name": "Python 3 (ipykernel)",
   "language": "python",
   "name": "python3"
  },
  "language_info": {
   "codemirror_mode": {
    "name": "ipython",
    "version": 3
   },
   "file_extension": ".py",
   "mimetype": "text/x-python",
   "name": "python",
   "nbconvert_exporter": "python",
   "pygments_lexer": "ipython3",
   "version": "3.9.13"
  }
 },
 "nbformat": 4,
 "nbformat_minor": 5
}
